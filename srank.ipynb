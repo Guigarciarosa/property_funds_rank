{
 "metadata": {
  "language_info": {
   "codemirror_mode": {
    "name": "ipython",
    "version": 3
   },
   "file_extension": ".py",
   "mimetype": "text/x-python",
   "name": "python",
   "nbconvert_exporter": "python",
   "pygments_lexer": "ipython3",
   "version": "3.8.3-final"
  },
  "orig_nbformat": 2,
  "kernelspec": {
   "name": "python3",
   "display_name": "Python 3",
   "language": "python"
  }
 },
 "nbformat": 4,
 "nbformat_minor": 2,
 "cells": [
  {
   "source": [
    "# ESTRATÉGIA S-RANK\n",
    "\n",
    "- Estratégia de seleção de fundos imobiliários\n",
    "\n",
    "- Passo 1 Aplicação de Filtros:\n",
    " 1. Filtro de liquidez diária de movimentação.\n",
    " 2. Filtro de Tipo de fundos imobiliários.\n",
    " 3. Filtro de Estabilidade.\n",
    " 4. Filtro de Idade."
   ],
   "cell_type": "markdown",
   "metadata": {}
  },
  {
   "source": [
    "import sqlite3\n",
    "import pandas as pd \n",
    "import os"
   ],
   "cell_type": "code",
   "metadata": {},
   "execution_count": 29,
   "outputs": []
  },
  {
   "source": [
    "# 1 . Filtro de Liquidez\n",
    "\n",
    "- Realizamos um filtro para verificar os fundos com menos de 200 mil reais de negociação diaria"
   ],
   "cell_type": "markdown",
   "metadata": {}
  },
  {
   "cell_type": "code",
   "execution_count": 30,
   "metadata": {},
   "outputs": [],
   "source": [
    "#Conexão com o database\n",
    "conn = sqlite3.connect(r'database_fii.db')"
   ]
  },
  {
   "cell_type": "code",
   "execution_count": 31,
   "metadata": {},
   "outputs": [
    {
     "output_type": "execute_result",
     "data": {
      "text/plain": [
       "[('tipo_do_fundo',), ('ipo_data_list',), ('ranking_diario',)]"
      ]
     },
     "metadata": {},
     "execution_count": 31
    }
   ],
   "source": [
    "#criação do cursor para vermos as tabelas do banco\n",
    "cur = conn.cursor()\n",
    "cur.execute(\"\"\"select name from sqlite_master where type='table';\"\"\")\n",
    "cur.fetchall()"
   ]
  },
  {
   "cell_type": "code",
   "execution_count": 32,
   "metadata": {},
   "outputs": [
    {
     "output_type": "execute_result",
     "data": {
      "text/plain": [
       "  codigo_do_fundo               setor preco_atual liquidez_diaria dividendo  \\\n",
       "0          FIVN11           Shoppings        4.36             800      0.00   \n",
       "1          BZLI11   Títulos e Val Mob       15.75             423      0.00   \n",
       "2          XTED11  Lajes Corporativas        7.09            1929      0.00   \n",
       "3          ALMI11  Lajes Corporativas     1360.00              71      0.00   \n",
       "4          DOMC11  Lajes Corporativas      439.00              42      0.00   \n",
       "\n",
       "  dividend_yield dy_3m_acumulado dy_6m_acumulado DY_(12M)_Acumulado  \\\n",
       "0           0.00            0.00            0.00               0.00   \n",
       "1           0.00            0.00            0.00               0.00   \n",
       "2           0.00            0.00            0.00               0.00   \n",
       "3           0.00            0.00            0.00               0.00   \n",
       "4           0.00            0.00            0.00               0.00   \n",
       "\n",
       "  dy_3m_media  ...      vpa p_vpa dy_patrimonial variacao_patrimonial  \\\n",
       "0        0.00  ...     7.13  0.61                                       \n",
       "1        0.00  ...    11.56  1.36                                       \n",
       "2        0.00  ...    14.99  0.47                                       \n",
       "3        0.00  ...   208.31  0.68                                       \n",
       "4        0.00  ...  1109.62  0.40                                       \n",
       "\n",
       "  rentabilidade_patrimonial_periodo rentabilidade_patrimonial_acumulada  \\\n",
       "0                                                                         \n",
       "1                                                                         \n",
       "2                                                                         \n",
       "3                                                                         \n",
       "4                                                                         \n",
       "\n",
       "  vacancia_fisica vacancia_financeira quantidade_ativos  \\\n",
       "0           56.00                                     1   \n",
       "1                                                     0   \n",
       "2          100.00              100.00                 1   \n",
       "3           68.15                                     1   \n",
       "4           23.44                                     1   \n",
       "\n",
       "                         hoje  \n",
       "0  2021-02-23 09:41:27.962330  \n",
       "1  2021-02-23 09:41:27.962330  \n",
       "2  2021-02-23 09:41:27.962330  \n",
       "3  2021-02-23 09:41:27.962330  \n",
       "4  2021-02-23 09:41:27.962330  \n",
       "\n",
       "[5 rows x 27 columns]"
      ],
      "text/html": "<div>\n<style scoped>\n    .dataframe tbody tr th:only-of-type {\n        vertical-align: middle;\n    }\n\n    .dataframe tbody tr th {\n        vertical-align: top;\n    }\n\n    .dataframe thead th {\n        text-align: right;\n    }\n</style>\n<table border=\"1\" class=\"dataframe\">\n  <thead>\n    <tr style=\"text-align: right;\">\n      <th></th>\n      <th>codigo_do_fundo</th>\n      <th>setor</th>\n      <th>preco_atual</th>\n      <th>liquidez_diaria</th>\n      <th>dividendo</th>\n      <th>dividend_yield</th>\n      <th>dy_3m_acumulado</th>\n      <th>dy_6m_acumulado</th>\n      <th>DY_(12M)_Acumulado</th>\n      <th>dy_3m_media</th>\n      <th>...</th>\n      <th>vpa</th>\n      <th>p_vpa</th>\n      <th>dy_patrimonial</th>\n      <th>variacao_patrimonial</th>\n      <th>rentabilidade_patrimonial_periodo</th>\n      <th>rentabilidade_patrimonial_acumulada</th>\n      <th>vacancia_fisica</th>\n      <th>vacancia_financeira</th>\n      <th>quantidade_ativos</th>\n      <th>hoje</th>\n    </tr>\n  </thead>\n  <tbody>\n    <tr>\n      <th>0</th>\n      <td>FIVN11</td>\n      <td>Shoppings</td>\n      <td>4.36</td>\n      <td>800</td>\n      <td>0.00</td>\n      <td>0.00</td>\n      <td>0.00</td>\n      <td>0.00</td>\n      <td>0.00</td>\n      <td>0.00</td>\n      <td>...</td>\n      <td>7.13</td>\n      <td>0.61</td>\n      <td></td>\n      <td></td>\n      <td></td>\n      <td></td>\n      <td>56.00</td>\n      <td></td>\n      <td>1</td>\n      <td>2021-02-23 09:41:27.962330</td>\n    </tr>\n    <tr>\n      <th>1</th>\n      <td>BZLI11</td>\n      <td>Títulos e Val Mob</td>\n      <td>15.75</td>\n      <td>423</td>\n      <td>0.00</td>\n      <td>0.00</td>\n      <td>0.00</td>\n      <td>0.00</td>\n      <td>0.00</td>\n      <td>0.00</td>\n      <td>...</td>\n      <td>11.56</td>\n      <td>1.36</td>\n      <td></td>\n      <td></td>\n      <td></td>\n      <td></td>\n      <td></td>\n      <td></td>\n      <td>0</td>\n      <td>2021-02-23 09:41:27.962330</td>\n    </tr>\n    <tr>\n      <th>2</th>\n      <td>XTED11</td>\n      <td>Lajes Corporativas</td>\n      <td>7.09</td>\n      <td>1929</td>\n      <td>0.00</td>\n      <td>0.00</td>\n      <td>0.00</td>\n      <td>0.00</td>\n      <td>0.00</td>\n      <td>0.00</td>\n      <td>...</td>\n      <td>14.99</td>\n      <td>0.47</td>\n      <td></td>\n      <td></td>\n      <td></td>\n      <td></td>\n      <td>100.00</td>\n      <td>100.00</td>\n      <td>1</td>\n      <td>2021-02-23 09:41:27.962330</td>\n    </tr>\n    <tr>\n      <th>3</th>\n      <td>ALMI11</td>\n      <td>Lajes Corporativas</td>\n      <td>1360.00</td>\n      <td>71</td>\n      <td>0.00</td>\n      <td>0.00</td>\n      <td>0.00</td>\n      <td>0.00</td>\n      <td>0.00</td>\n      <td>0.00</td>\n      <td>...</td>\n      <td>208.31</td>\n      <td>0.68</td>\n      <td></td>\n      <td></td>\n      <td></td>\n      <td></td>\n      <td>68.15</td>\n      <td></td>\n      <td>1</td>\n      <td>2021-02-23 09:41:27.962330</td>\n    </tr>\n    <tr>\n      <th>4</th>\n      <td>DOMC11</td>\n      <td>Lajes Corporativas</td>\n      <td>439.00</td>\n      <td>42</td>\n      <td>0.00</td>\n      <td>0.00</td>\n      <td>0.00</td>\n      <td>0.00</td>\n      <td>0.00</td>\n      <td>0.00</td>\n      <td>...</td>\n      <td>1109.62</td>\n      <td>0.40</td>\n      <td></td>\n      <td></td>\n      <td></td>\n      <td></td>\n      <td>23.44</td>\n      <td></td>\n      <td>1</td>\n      <td>2021-02-23 09:41:27.962330</td>\n    </tr>\n  </tbody>\n</table>\n<p>5 rows × 27 columns</p>\n</div>"
     },
     "metadata": {},
     "execution_count": 32
    }
   ],
   "source": [
    "#selecionar a tabela ranking_diário para podermos aplicar a estratégia s-rank\n",
    "df = pd.read_sql_query(\"\"\"SELECT * FROM ranking_diario\"\"\",conn)\n",
    "df.head()"
   ]
  },
  {
   "cell_type": "code",
   "execution_count": 33,
   "metadata": {},
   "outputs": [
    {
     "output_type": "execute_result",
     "data": {
      "text/plain": [
       "codigo_do_fundo                        object\n",
       "setor                                  object\n",
       "preco_atual                            object\n",
       "liquidez_diaria                        object\n",
       "dividendo                              object\n",
       "dividend_yield                         object\n",
       "dy_3m_acumulado                        object\n",
       "dy_6m_acumulado                        object\n",
       "DY_(12M)_Acumulado                     object\n",
       "dy_3m_media                            object\n",
       "dy_6m_media                            object\n",
       "dy_12M_media                           object\n",
       "dy_ano                                 object\n",
       "variacao_preco                         object\n",
       "rentabilidade_periodo                  object\n",
       "rentabilidade_acumulada                object\n",
       "patrimonio_liq                         object\n",
       "vpa                                    object\n",
       "p_vpa                                  object\n",
       "dy_patrimonial                         object\n",
       "variacao_patrimonial                   object\n",
       "rentabilidade_patrimonial_periodo      object\n",
       "rentabilidade_patrimonial_acumulada    object\n",
       "vacancia_fisica                        object\n",
       "vacancia_financeira                    object\n",
       "quantidade_ativos                      object\n",
       "hoje                                   object\n",
       "dtype: object"
      ]
     },
     "metadata": {},
     "execution_count": 33
    }
   ],
   "source": [
    "#ver os tipos das colunas do df\n",
    "df.dtypes"
   ]
  },
  {
   "cell_type": "code",
   "execution_count": 34,
   "metadata": {},
   "outputs": [],
   "source": [
    "#criar função para converter as colunas em tipos númericos\n",
    "def coerce_columns_to_numeric(df,column_list):\n",
    "    df[column_list] = df[column_list].apply(pd.to_numeric, errors='coerce')"
   ]
  },
  {
   "cell_type": "code",
   "execution_count": 35,
   "metadata": {},
   "outputs": [],
   "source": [
    "#converter a coluna Liquidez Diária para numeric\n",
    "coerce_columns_to_numeric(df, 'liquidez_diaria')\n",
    "coerce_columns_to_numeric(df, 'dividend_yield')\n",
    "coerce_columns_to_numeric(df, 'dy_12M_media')"
   ]
  },
  {
   "cell_type": "code",
   "execution_count": 36,
   "metadata": {},
   "outputs": [],
   "source": [
    "#removemos os FIIS com menos de 200 mil reais em liquidez diária dos ultimos doze meses\n",
    "rank = df.loc[df['liquidez_diaria'] >= 20000]"
   ]
  },
  {
   "source": [
    "# 2. Filtro de Tipos de Fundos\n",
    "\n",
    "- Remove os fundos de incorporação ou fundos de desenvolvimento"
   ],
   "cell_type": "markdown",
   "metadata": {}
  },
  {
   "cell_type": "code",
   "execution_count": 37,
   "metadata": {},
   "outputs": [],
   "source": [
    "type_funds = pd.read_sql_query('SELECT * FROM tipo_do_fundo',conn)"
   ]
  },
  {
   "cell_type": "code",
   "execution_count": 38,
   "metadata": {},
   "outputs": [
    {
     "output_type": "execute_result",
     "data": {
      "text/plain": [
       "Index(['Código do fundo', 'Público Alvo', 'Tipo de FII'], dtype='object')"
      ]
     },
     "metadata": {},
     "execution_count": 38
    }
   ],
   "source": [
    "type_funds.columns"
   ]
  },
  {
   "cell_type": "code",
   "execution_count": 39,
   "metadata": {},
   "outputs": [],
   "source": [
    "type_funds = type_funds.rename(columns={'Código do fundo':'codigo_do_fundo'})\n"
   ]
  },
  {
   "cell_type": "code",
   "execution_count": 40,
   "metadata": {},
   "outputs": [],
   "source": [
    "type_funds.drop(type_funds[type_funds['Tipo de FII'] == 'Tijolo: Desenvolvimento'].index, inplace=True)"
   ]
  },
  {
   "cell_type": "code",
   "execution_count": 41,
   "metadata": {},
   "outputs": [],
   "source": [
    "rank_2 = pd.merge(rank,type_funds, on='codigo_do_fundo')"
   ]
  },
  {
   "cell_type": "code",
   "execution_count": 44,
   "metadata": {},
   "outputs": [
    {
     "output_type": "execute_result",
     "data": {
      "text/plain": [
       "Index(['codigo_do_fundo', 'setor', 'preco_atual', 'liquidez_diaria',\n",
       "       'dividendo', 'dividend_yield', 'dy_3m_acumulado', 'dy_6m_acumulado',\n",
       "       'DY_(12M)_Acumulado', 'dy_3m_media', 'dy_6m_media', 'dy_12M_media',\n",
       "       'dy_ano', 'variacao_preco', 'rentabilidade_periodo',\n",
       "       'rentabilidade_acumulada', 'patrimonio_liq', 'vpa', 'p_vpa',\n",
       "       'dy_patrimonial', 'variacao_patrimonial',\n",
       "       'rentabilidade_patrimonial_periodo',\n",
       "       'rentabilidade_patrimonial_acumulada', 'vacancia_fisica',\n",
       "       'vacancia_financeira', 'quantidade_ativos', 'hoje', 'Público Alvo',\n",
       "       'Tipo de FII'],\n",
       "      dtype='object')"
      ]
     },
     "metadata": {},
     "execution_count": 44
    }
   ],
   "source": [
    "rank_2.columns"
   ]
  },
  {
   "source": [
    "# 3. Criar um filtro de estabilidade\n",
    "- o filtro de estabilidade é a diferença entre a média e a mediana do DY (dividend Yield)"
   ],
   "cell_type": "markdown",
   "metadata": {}
  },
  {
   "cell_type": "code",
   "execution_count": 42,
   "metadata": {},
   "outputs": [
    {
     "output_type": "error",
     "ename": "SyntaxError",
     "evalue": "invalid syntax (<ipython-input-42-301568d324e1>, line 2)",
     "traceback": [
      "\u001b[1;36m  File \u001b[1;32m\"<ipython-input-42-301568d324e1>\"\u001b[1;36m, line \u001b[1;32m2\u001b[0m\n\u001b[1;33m    rank_2['dy_mediana'] =\u001b[0m\n\u001b[1;37m                          ^\u001b[0m\n\u001b[1;31mSyntaxError\u001b[0m\u001b[1;31m:\u001b[0m invalid syntax\n"
     ]
    }
   ],
   "source": [
    "#pegar a mediana do Dividend Yield anual\n",
    "rank_2['dy_mediana'] = ran"
   ]
  },
  {
   "cell_type": "code",
   "execution_count": 27,
   "metadata": {},
   "outputs": [],
   "source": [
    "rank_2['Dif_entre_med_e_media'] = rank_2['dy_12M_media']"
   ]
  },
  {
   "cell_type": "code",
   "execution_count": 28,
   "metadata": {},
   "outputs": [],
   "source": [
    "rank_2['filtro estabilidade'] = rank_2['Dif entre med e media'].apply(lambda x: 'Instavel' if x < 0\n",
    "else 'Estavel' if x > 0\n",
    "else '')"
   ]
  },
  {
   "cell_type": "code",
   "execution_count": 29,
   "metadata": {},
   "outputs": [
    {
     "output_type": "execute_result",
     "data": {
      "text/plain": [
       "  Código do fundo               Setor Preço Atual  Liquidez Diária Dividendo  \\\n",
       "0          GSFI11           Shoppings        2.60         113089.0      0.00   \n",
       "1          GSFI11           Shoppings        2.60         113089.0      0.00   \n",
       "2          HGRE11  Lajes Corporativas      150.75          41682.0      0.65   \n",
       "3          HGRE11  Lajes Corporativas      150.75          41682.0      0.65   \n",
       "4          HGRE11  Lajes Corporativas      150.00          25195.0      0.97   \n",
       "\n",
       "   Dividend Yield DY (3M) Acumulado DY (6M) Acumulado DY (12M) Acumulado  \\\n",
       "0            0.03              0.03              0.03               0.03   \n",
       "1            0.03              0.03              0.03               0.03   \n",
       "2            0.43              1.34              2.50               5.13   \n",
       "3            0.43              1.34              2.50               5.13   \n",
       "4            0.62              1.48              2.82               5.20   \n",
       "\n",
       "  DY (3M) Média  ... Rentab. Patr. Acumulada  Vacância Física  \\\n",
       "0          0.01  ...                                            \n",
       "1          0.01  ...                                            \n",
       "2          0.45  ...                    3.72            26.51   \n",
       "3          0.45  ...                    3.72            26.51   \n",
       "4          0.49  ...                                    22.41   \n",
       "\n",
       "  Vacância Financeira Quantidade Ativos                        Hoje  \\\n",
       "0                                    10  2020-10-21 13:50:11.132171   \n",
       "1                                    10  2020-10-21 13:50:11.132171   \n",
       "2               28.52                22  2020-10-21 13:50:11.132171   \n",
       "3               28.52                22  2020-10-21 13:50:11.132171   \n",
       "4               25.04                21  2021-01-26 12:07:02.764778   \n",
       "\n",
       "  Público Alvo          Tipo de FII DY mediana Dif entre med e media  \\\n",
       "0        Geral    Tijolo: Shoppings       0.03                  0.03   \n",
       "1         None                 None       0.03                  0.03   \n",
       "2        Geral  Tijolo: Escritórios       0.39                 -0.04   \n",
       "3         None                 None       0.39                 -0.04   \n",
       "4        Geral  Tijolo: Escritórios       0.57                  0.14   \n",
       "\n",
       "  filtro estabilidade  \n",
       "0             Estavel  \n",
       "1             Estavel  \n",
       "2            Instavel  \n",
       "3            Instavel  \n",
       "4             Estavel  \n",
       "\n",
       "[5 rows x 32 columns]"
      ],
      "text/html": "<div>\n<style scoped>\n    .dataframe tbody tr th:only-of-type {\n        vertical-align: middle;\n    }\n\n    .dataframe tbody tr th {\n        vertical-align: top;\n    }\n\n    .dataframe thead th {\n        text-align: right;\n    }\n</style>\n<table border=\"1\" class=\"dataframe\">\n  <thead>\n    <tr style=\"text-align: right;\">\n      <th></th>\n      <th>Código do fundo</th>\n      <th>Setor</th>\n      <th>Preço Atual</th>\n      <th>Liquidez Diária</th>\n      <th>Dividendo</th>\n      <th>Dividend Yield</th>\n      <th>DY (3M) Acumulado</th>\n      <th>DY (6M) Acumulado</th>\n      <th>DY (12M) Acumulado</th>\n      <th>DY (3M) Média</th>\n      <th>...</th>\n      <th>Rentab. Patr. Acumulada</th>\n      <th>Vacância Física</th>\n      <th>Vacância Financeira</th>\n      <th>Quantidade Ativos</th>\n      <th>Hoje</th>\n      <th>Público Alvo</th>\n      <th>Tipo de FII</th>\n      <th>DY mediana</th>\n      <th>Dif entre med e media</th>\n      <th>filtro estabilidade</th>\n    </tr>\n  </thead>\n  <tbody>\n    <tr>\n      <th>0</th>\n      <td>GSFI11</td>\n      <td>Shoppings</td>\n      <td>2.60</td>\n      <td>113089.0</td>\n      <td>0.00</td>\n      <td>0.03</td>\n      <td>0.03</td>\n      <td>0.03</td>\n      <td>0.03</td>\n      <td>0.01</td>\n      <td>...</td>\n      <td></td>\n      <td></td>\n      <td></td>\n      <td>10</td>\n      <td>2020-10-21 13:50:11.132171</td>\n      <td>Geral</td>\n      <td>Tijolo: Shoppings</td>\n      <td>0.03</td>\n      <td>0.03</td>\n      <td>Estavel</td>\n    </tr>\n    <tr>\n      <th>1</th>\n      <td>GSFI11</td>\n      <td>Shoppings</td>\n      <td>2.60</td>\n      <td>113089.0</td>\n      <td>0.00</td>\n      <td>0.03</td>\n      <td>0.03</td>\n      <td>0.03</td>\n      <td>0.03</td>\n      <td>0.01</td>\n      <td>...</td>\n      <td></td>\n      <td></td>\n      <td></td>\n      <td>10</td>\n      <td>2020-10-21 13:50:11.132171</td>\n      <td>None</td>\n      <td>None</td>\n      <td>0.03</td>\n      <td>0.03</td>\n      <td>Estavel</td>\n    </tr>\n    <tr>\n      <th>2</th>\n      <td>HGRE11</td>\n      <td>Lajes Corporativas</td>\n      <td>150.75</td>\n      <td>41682.0</td>\n      <td>0.65</td>\n      <td>0.43</td>\n      <td>1.34</td>\n      <td>2.50</td>\n      <td>5.13</td>\n      <td>0.45</td>\n      <td>...</td>\n      <td>3.72</td>\n      <td>26.51</td>\n      <td>28.52</td>\n      <td>22</td>\n      <td>2020-10-21 13:50:11.132171</td>\n      <td>Geral</td>\n      <td>Tijolo: Escritórios</td>\n      <td>0.39</td>\n      <td>-0.04</td>\n      <td>Instavel</td>\n    </tr>\n    <tr>\n      <th>3</th>\n      <td>HGRE11</td>\n      <td>Lajes Corporativas</td>\n      <td>150.75</td>\n      <td>41682.0</td>\n      <td>0.65</td>\n      <td>0.43</td>\n      <td>1.34</td>\n      <td>2.50</td>\n      <td>5.13</td>\n      <td>0.45</td>\n      <td>...</td>\n      <td>3.72</td>\n      <td>26.51</td>\n      <td>28.52</td>\n      <td>22</td>\n      <td>2020-10-21 13:50:11.132171</td>\n      <td>None</td>\n      <td>None</td>\n      <td>0.39</td>\n      <td>-0.04</td>\n      <td>Instavel</td>\n    </tr>\n    <tr>\n      <th>4</th>\n      <td>HGRE11</td>\n      <td>Lajes Corporativas</td>\n      <td>150.00</td>\n      <td>25195.0</td>\n      <td>0.97</td>\n      <td>0.62</td>\n      <td>1.48</td>\n      <td>2.82</td>\n      <td>5.20</td>\n      <td>0.49</td>\n      <td>...</td>\n      <td></td>\n      <td>22.41</td>\n      <td>25.04</td>\n      <td>21</td>\n      <td>2021-01-26 12:07:02.764778</td>\n      <td>Geral</td>\n      <td>Tijolo: Escritórios</td>\n      <td>0.57</td>\n      <td>0.14</td>\n      <td>Estavel</td>\n    </tr>\n  </tbody>\n</table>\n<p>5 rows × 32 columns</p>\n</div>"
     },
     "metadata": {},
     "execution_count": 29
    }
   ],
   "source": [
    "rank_2.head()"
   ]
  },
  {
   "source": [
    "# 4. Filtro de Idade\n",
    "- Retira fundos que tem menos de 1 ano de existência."
   ],
   "cell_type": "markdown",
   "metadata": {}
  },
  {
   "cell_type": "code",
   "execution_count": 75,
   "metadata": {},
   "outputs": [],
   "source": [
    "ipo_list = pd.read_sql_query('SELECT * FROM ipo_data_list',conn)"
   ]
  },
  {
   "cell_type": "code",
   "execution_count": 76,
   "metadata": {},
   "outputs": [
    {
     "output_type": "execute_result",
     "data": {
      "text/plain": [
       "Index(['Nome ', 'Código do fundo', 'Data_Ipo', 'Valor Ipo', 'Segmento',\n",
       "       'Administrador '],\n",
       "      dtype='object')"
      ]
     },
     "metadata": {},
     "execution_count": 76
    }
   ],
   "source": [
    "ipo_list.columns"
   ]
  },
  {
   "cell_type": "code",
   "execution_count": 88,
   "metadata": {},
   "outputs": [],
   "source": [
    "nr = pd.merge(rank_2,ipo_list, on='Código do fundo')"
   ]
  },
  {
   "cell_type": "code",
   "execution_count": 89,
   "metadata": {},
   "outputs": [
    {
     "output_type": "execute_result",
     "data": {
      "text/plain": [
       "Index(['Código do fundo', 'Setor', 'Preço Atual', 'Liquidez Diária',\n",
       "       'Dividendo', 'Dividend Yield', 'DY (3M) Acumulado', 'DY (6M) Acumulado',\n",
       "       'DY (12M) Acumulado', 'DY (3M) Média', 'DY (6M) Média',\n",
       "       'DY (12M) Média', 'DY Ano', 'Variação Preço', 'Rentab. Período',\n",
       "       'Rentab. Acumulada', 'Patrimônio Líq.', 'VPA', 'P/VPA',\n",
       "       'DY Patrimonial', 'Variação Patrimonial', 'Rentab. Patr. no Período',\n",
       "       'Rentab. Patr. Acumulada', 'Vacância Física', 'Vacância Financeira',\n",
       "       'Quantidade Ativos', 'Hoje', 'Público Alvo', 'Tipo de FII',\n",
       "       'DY mediana', 'Dif entre med e media', 'filtro estabilidade', 'Nome ',\n",
       "       'Data_Ipo', 'Valor Ipo', 'Segmento', 'Administrador '],\n",
       "      dtype='object')"
      ]
     },
     "metadata": {},
     "execution_count": 89
    }
   ],
   "source": [
    "nr.columns"
   ]
  },
  {
   "cell_type": "code",
   "execution_count": 90,
   "metadata": {},
   "outputs": [],
   "source": [
    "import datetime"
   ]
  },
  {
   "cell_type": "code",
   "execution_count": 91,
   "metadata": {},
   "outputs": [],
   "source": [
    "today = datetime.date.today()"
   ]
  },
  {
   "cell_type": "code",
   "execution_count": 92,
   "metadata": {},
   "outputs": [],
   "source": [
    "d = today.day\n",
    "m = today.month\n",
    "y = today.year"
   ]
  },
  {
   "cell_type": "code",
   "execution_count": 93,
   "metadata": {},
   "outputs": [],
   "source": [
    "l_y = y-1"
   ]
  },
  {
   "cell_type": "code",
   "execution_count": 94,
   "metadata": {},
   "outputs": [],
   "source": [
    "data = '{}/0{}/{}'.format(d,m,l_y)"
   ]
  },
  {
   "cell_type": "code",
   "execution_count": 95,
   "metadata": {},
   "outputs": [
    {
     "output_type": "execute_result",
     "data": {
      "text/plain": [
       "'22/02/2020'"
      ]
     },
     "metadata": {},
     "execution_count": 95
    }
   ],
   "source": [
    "data"
   ]
  },
  {
   "cell_type": "code",
   "execution_count": 97,
   "metadata": {},
   "outputs": [],
   "source": [
    "nr = nr.loc[nr['Data_Ipo'] < data]"
   ]
  },
  {
   "cell_type": "code",
   "execution_count": 99,
   "metadata": {},
   "outputs": [],
   "source": [
    "nr.drop_duplicates('Código do fundo',inplace=True)"
   ]
  },
  {
   "cell_type": "code",
   "execution_count": 100,
   "metadata": {},
   "outputs": [],
   "source": [
    "nr.to_excel(r's_rank{}.xlsx'.format(str(today)),index=False)"
   ]
  },
  {
   "cell_type": "code",
   "execution_count": null,
   "metadata": {},
   "outputs": [],
   "source": []
  }
 ]
}