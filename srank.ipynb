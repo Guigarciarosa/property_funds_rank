{
 "metadata": {
  "language_info": {
   "codemirror_mode": {
    "name": "ipython",
    "version": 3
   },
   "file_extension": ".py",
   "mimetype": "text/x-python",
   "name": "python",
   "nbconvert_exporter": "python",
   "pygments_lexer": "ipython3",
   "version": "3.8.3-final"
  },
  "orig_nbformat": 2,
  "kernelspec": {
   "name": "python3",
   "display_name": "Python 3",
   "language": "python"
  }
 },
 "nbformat": 4,
 "nbformat_minor": 2,
 "cells": [
  {
   "source": [
    "# ESTRATÉGIA S-RANK\n",
    "\n",
    "- Estratégia de seleção de fundos imobiliários\n",
    "\n",
    "- Passo 1 Aplicação de Filtros:\n",
    " 1. Filtro de liquidez diária de movimentação.\n",
    " 2. Filtro de Tipo de fundos imobiliários.\n",
    " 3. Filtro de Estabilidade.\n",
    " 4. Filtro de Idade."
   ],
   "cell_type": "markdown",
   "metadata": {}
  },
  {
   "source": [
    "import sqlite3\n",
    "import pandas as pd \n",
    "import os\n",
    "import numpy as np "
   ],
   "cell_type": "code",
   "metadata": {},
   "execution_count": 22,
   "outputs": []
  },
  {
   "source": [
    "# 1 . Filtro de Liquidez\n",
    "\n",
    "- Realizamos um filtro para verificar os fundos com menos de 200 mil reais de negociação diaria"
   ],
   "cell_type": "markdown",
   "metadata": {}
  },
  {
   "cell_type": "code",
   "execution_count": 2,
   "metadata": {},
   "outputs": [],
   "source": [
    "#Conexão com o database\n",
    "conn = sqlite3.connect(r'database_fii.db')"
   ]
  },
  {
   "cell_type": "code",
   "execution_count": 3,
   "metadata": {},
   "outputs": [
    {
     "output_type": "execute_result",
     "data": {
      "text/plain": [
       "[('tipo_do_fundo',), ('ipo_data_list',), ('ranking_diario',)]"
      ]
     },
     "metadata": {},
     "execution_count": 3
    }
   ],
   "source": [
    "#criação do cursor para vermos as tabelas do banco\n",
    "cur = conn.cursor()\n",
    "cur.execute(\"\"\"select name from sqlite_master where type='table';\"\"\")\n",
    "cur.fetchall()"
   ]
  },
  {
   "cell_type": "code",
   "execution_count": 4,
   "metadata": {},
   "outputs": [
    {
     "output_type": "execute_result",
     "data": {
      "text/plain": [
       "  codigo_do_fundo               setor preco_atual liquidez_diaria dividendo  \\\n",
       "0          FIVN11           Shoppings        4.36             800      0.00   \n",
       "1          BZLI11   Títulos e Val Mob       15.75             423      0.00   \n",
       "2          XTED11  Lajes Corporativas        7.09            1929      0.00   \n",
       "3          ALMI11  Lajes Corporativas     1360.00              71      0.00   \n",
       "4          DOMC11  Lajes Corporativas      439.00              42      0.00   \n",
       "\n",
       "  dividend_yield dy_3m_acumulado dy_6m_acumulado DY_(12M)_Acumulado  \\\n",
       "0           0.00            0.00            0.00               0.00   \n",
       "1           0.00            0.00            0.00               0.00   \n",
       "2           0.00            0.00            0.00               0.00   \n",
       "3           0.00            0.00            0.00               0.00   \n",
       "4           0.00            0.00            0.00               0.00   \n",
       "\n",
       "  dy_3m_media  ...      vpa p_vpa dy_patrimonial variacao_patrimonial  \\\n",
       "0        0.00  ...     7.13  0.61                                       \n",
       "1        0.00  ...    11.56  1.36                                       \n",
       "2        0.00  ...    14.99  0.47                                       \n",
       "3        0.00  ...   208.31  0.68                                       \n",
       "4        0.00  ...  1109.62  0.40                                       \n",
       "\n",
       "  rentabilidade_patrimonial_periodo rentabilidade_patrimonial_acumulada  \\\n",
       "0                                                                         \n",
       "1                                                                         \n",
       "2                                                                         \n",
       "3                                                                         \n",
       "4                                                                         \n",
       "\n",
       "  vacancia_fisica vacancia_financeira quantidade_ativos  \\\n",
       "0           56.00                                     1   \n",
       "1                                                     0   \n",
       "2          100.00              100.00                 1   \n",
       "3           68.15                                     1   \n",
       "4           23.44                                     1   \n",
       "\n",
       "                         hoje  \n",
       "0  2021-02-23 09:41:27.962330  \n",
       "1  2021-02-23 09:41:27.962330  \n",
       "2  2021-02-23 09:41:27.962330  \n",
       "3  2021-02-23 09:41:27.962330  \n",
       "4  2021-02-23 09:41:27.962330  \n",
       "\n",
       "[5 rows x 27 columns]"
      ],
      "text/html": "<div>\n<style scoped>\n    .dataframe tbody tr th:only-of-type {\n        vertical-align: middle;\n    }\n\n    .dataframe tbody tr th {\n        vertical-align: top;\n    }\n\n    .dataframe thead th {\n        text-align: right;\n    }\n</style>\n<table border=\"1\" class=\"dataframe\">\n  <thead>\n    <tr style=\"text-align: right;\">\n      <th></th>\n      <th>codigo_do_fundo</th>\n      <th>setor</th>\n      <th>preco_atual</th>\n      <th>liquidez_diaria</th>\n      <th>dividendo</th>\n      <th>dividend_yield</th>\n      <th>dy_3m_acumulado</th>\n      <th>dy_6m_acumulado</th>\n      <th>DY_(12M)_Acumulado</th>\n      <th>dy_3m_media</th>\n      <th>...</th>\n      <th>vpa</th>\n      <th>p_vpa</th>\n      <th>dy_patrimonial</th>\n      <th>variacao_patrimonial</th>\n      <th>rentabilidade_patrimonial_periodo</th>\n      <th>rentabilidade_patrimonial_acumulada</th>\n      <th>vacancia_fisica</th>\n      <th>vacancia_financeira</th>\n      <th>quantidade_ativos</th>\n      <th>hoje</th>\n    </tr>\n  </thead>\n  <tbody>\n    <tr>\n      <th>0</th>\n      <td>FIVN11</td>\n      <td>Shoppings</td>\n      <td>4.36</td>\n      <td>800</td>\n      <td>0.00</td>\n      <td>0.00</td>\n      <td>0.00</td>\n      <td>0.00</td>\n      <td>0.00</td>\n      <td>0.00</td>\n      <td>...</td>\n      <td>7.13</td>\n      <td>0.61</td>\n      <td></td>\n      <td></td>\n      <td></td>\n      <td></td>\n      <td>56.00</td>\n      <td></td>\n      <td>1</td>\n      <td>2021-02-23 09:41:27.962330</td>\n    </tr>\n    <tr>\n      <th>1</th>\n      <td>BZLI11</td>\n      <td>Títulos e Val Mob</td>\n      <td>15.75</td>\n      <td>423</td>\n      <td>0.00</td>\n      <td>0.00</td>\n      <td>0.00</td>\n      <td>0.00</td>\n      <td>0.00</td>\n      <td>0.00</td>\n      <td>...</td>\n      <td>11.56</td>\n      <td>1.36</td>\n      <td></td>\n      <td></td>\n      <td></td>\n      <td></td>\n      <td></td>\n      <td></td>\n      <td>0</td>\n      <td>2021-02-23 09:41:27.962330</td>\n    </tr>\n    <tr>\n      <th>2</th>\n      <td>XTED11</td>\n      <td>Lajes Corporativas</td>\n      <td>7.09</td>\n      <td>1929</td>\n      <td>0.00</td>\n      <td>0.00</td>\n      <td>0.00</td>\n      <td>0.00</td>\n      <td>0.00</td>\n      <td>0.00</td>\n      <td>...</td>\n      <td>14.99</td>\n      <td>0.47</td>\n      <td></td>\n      <td></td>\n      <td></td>\n      <td></td>\n      <td>100.00</td>\n      <td>100.00</td>\n      <td>1</td>\n      <td>2021-02-23 09:41:27.962330</td>\n    </tr>\n    <tr>\n      <th>3</th>\n      <td>ALMI11</td>\n      <td>Lajes Corporativas</td>\n      <td>1360.00</td>\n      <td>71</td>\n      <td>0.00</td>\n      <td>0.00</td>\n      <td>0.00</td>\n      <td>0.00</td>\n      <td>0.00</td>\n      <td>0.00</td>\n      <td>...</td>\n      <td>208.31</td>\n      <td>0.68</td>\n      <td></td>\n      <td></td>\n      <td></td>\n      <td></td>\n      <td>68.15</td>\n      <td></td>\n      <td>1</td>\n      <td>2021-02-23 09:41:27.962330</td>\n    </tr>\n    <tr>\n      <th>4</th>\n      <td>DOMC11</td>\n      <td>Lajes Corporativas</td>\n      <td>439.00</td>\n      <td>42</td>\n      <td>0.00</td>\n      <td>0.00</td>\n      <td>0.00</td>\n      <td>0.00</td>\n      <td>0.00</td>\n      <td>0.00</td>\n      <td>...</td>\n      <td>1109.62</td>\n      <td>0.40</td>\n      <td></td>\n      <td></td>\n      <td></td>\n      <td></td>\n      <td>23.44</td>\n      <td></td>\n      <td>1</td>\n      <td>2021-02-23 09:41:27.962330</td>\n    </tr>\n  </tbody>\n</table>\n<p>5 rows × 27 columns</p>\n</div>"
     },
     "metadata": {},
     "execution_count": 4
    }
   ],
   "source": [
    "#selecionar a tabela ranking_diário para podermos aplicar a estratégia s-rank\n",
    "df = pd.read_sql_query(\"\"\"SELECT * FROM ranking_diario\"\"\",conn)\n",
    "df.head()"
   ]
  },
  {
   "cell_type": "code",
   "execution_count": 5,
   "metadata": {},
   "outputs": [
    {
     "output_type": "execute_result",
     "data": {
      "text/plain": [
       "codigo_do_fundo                        object\n",
       "setor                                  object\n",
       "preco_atual                            object\n",
       "liquidez_diaria                        object\n",
       "dividendo                              object\n",
       "dividend_yield                         object\n",
       "dy_3m_acumulado                        object\n",
       "dy_6m_acumulado                        object\n",
       "DY_(12M)_Acumulado                     object\n",
       "dy_3m_media                            object\n",
       "dy_6m_media                            object\n",
       "dy_12M_media                           object\n",
       "dy_ano                                 object\n",
       "variacao_preco                         object\n",
       "rentabilidade_periodo                  object\n",
       "rentabilidade_acumulada                object\n",
       "patrimonio_liq                         object\n",
       "vpa                                    object\n",
       "p_vpa                                  object\n",
       "dy_patrimonial                         object\n",
       "variacao_patrimonial                   object\n",
       "rentabilidade_patrimonial_periodo      object\n",
       "rentabilidade_patrimonial_acumulada    object\n",
       "vacancia_fisica                        object\n",
       "vacancia_financeira                    object\n",
       "quantidade_ativos                      object\n",
       "hoje                                   object\n",
       "dtype: object"
      ]
     },
     "metadata": {},
     "execution_count": 5
    }
   ],
   "source": [
    "#ver os tipos das colunas do df\n",
    "df.dtypes"
   ]
  },
  {
   "cell_type": "code",
   "execution_count": 6,
   "metadata": {},
   "outputs": [],
   "source": [
    "#criar função para converter as colunas em tipos númericos\n",
    "def coerce_columns_to_numeric(df,column_list):\n",
    "    df[column_list] = df[column_list].apply(pd.to_numeric, errors='coerce')"
   ]
  },
  {
   "cell_type": "code",
   "execution_count": 7,
   "metadata": {},
   "outputs": [],
   "source": [
    "#converter a coluna Liquidez Diária para numeric\n",
    "coerce_columns_to_numeric(df, 'liquidez_diaria')\n",
    "coerce_columns_to_numeric(df, 'dividend_yield')\n",
    "coerce_columns_to_numeric(df, 'dy_12M_media')"
   ]
  },
  {
   "cell_type": "code",
   "execution_count": 8,
   "metadata": {},
   "outputs": [],
   "source": [
    "#removemos os FIIS com menos de 200 mil reais em liquidez diária dos ultimos doze meses\n",
    "rank = df.loc[df['liquidez_diaria'] >= 20000]"
   ]
  },
  {
   "source": [
    "# 2. Filtro de Tipos de Fundos\n",
    "\n",
    "- Remove os fundos de incorporação ou fundos de desenvolvimento"
   ],
   "cell_type": "markdown",
   "metadata": {}
  },
  {
   "cell_type": "code",
   "execution_count": 9,
   "metadata": {},
   "outputs": [],
   "source": [
    "type_funds = pd.read_sql_query('SELECT * FROM tipo_do_fundo',conn)"
   ]
  },
  {
   "cell_type": "code",
   "execution_count": 10,
   "metadata": {},
   "outputs": [
    {
     "output_type": "execute_result",
     "data": {
      "text/plain": [
       "Index(['Código do fundo', 'Público Alvo', 'Tipo de FII'], dtype='object')"
      ]
     },
     "metadata": {},
     "execution_count": 10
    }
   ],
   "source": [
    "type_funds.columns"
   ]
  },
  {
   "cell_type": "code",
   "execution_count": 11,
   "metadata": {},
   "outputs": [],
   "source": [
    "type_funds = type_funds.rename(columns={'Código do fundo':'codigo_do_fundo'})\n"
   ]
  },
  {
   "cell_type": "code",
   "execution_count": 12,
   "metadata": {},
   "outputs": [],
   "source": [
    "type_funds.drop(type_funds[type_funds['Tipo de FII'] == 'Tijolo: Desenvolvimento'].index, inplace=True)"
   ]
  },
  {
   "cell_type": "code",
   "execution_count": 26,
   "metadata": {},
   "outputs": [],
   "source": [
    "rank_2 = pd.merge(rank,type_funds, on='codigo_do_fundo')"
   ]
  },
  {
   "cell_type": "code",
   "execution_count": 33,
   "metadata": {},
   "outputs": [
    {
     "output_type": "execute_result",
     "data": {
      "text/plain": [
       "Index(['codigo_do_fundo', 'setor', 'preco_atual', 'liquidez_diaria',\n",
       "       'dividendo', 'dividend_yield', 'dy_3m_acumulado', 'dy_6m_acumulado',\n",
       "       'DY_(12M)_Acumulado', 'dy_3m_media', 'dy_6m_media', 'dy_12M_media',\n",
       "       'dy_ano', 'variacao_preco', 'rentabilidade_periodo',\n",
       "       'rentabilidade_acumulada', 'patrimonio_liq', 'vpa', 'p_vpa',\n",
       "       'dy_patrimonial', 'variacao_patrimonial',\n",
       "       'rentabilidade_patrimonial_periodo',\n",
       "       'rentabilidade_patrimonial_acumulada', 'vacancia_fisica',\n",
       "       'vacancia_financeira', 'quantidade_ativos', 'hoje', 'Público Alvo',\n",
       "       'Tipo de FII'],\n",
       "      dtype='object')"
      ]
     },
     "metadata": {},
     "execution_count": 33
    }
   ],
   "source": [
    "rank_2.columns"
   ]
  },
  {
   "source": [
    "# 3. Criar um filtro de estabilidade\n",
    "- o filtro de estabilidade é a diferença entre a média e a mediana do DY (dividend Yield)"
   ],
   "cell_type": "markdown",
   "metadata": {}
  },
  {
   "cell_type": "code",
   "execution_count": 41,
   "metadata": {},
   "outputs": [],
   "source": [
    "#pegar a mediana do Dividend Yield anual\n",
    "rank_2['dy_mediana'] = abs(rank_2['dy_12M_media']-rank_2['dy_12M_media'].median()) "
   ]
  },
  {
   "cell_type": "code",
   "execution_count": 46,
   "metadata": {},
   "outputs": [],
   "source": [
    "rank_2['filtro estabilidade'] = rank_2['dy_12M_media'].apply(lambda x: 'Instavel' if x < 0\n",
    "else 'Estavel' if x > 0\n",
    "else '')"
   ]
  },
  {
   "cell_type": "code",
   "execution_count": 47,
   "metadata": {},
   "outputs": [
    {
     "output_type": "execute_result",
     "data": {
      "text/plain": [
       "  codigo_do_fundo      setor preco_atual  liquidez_diaria dividendo  \\\n",
       "0          CARE11    Híbrido        0.66          80476.0      0.00   \n",
       "1          CARE11    Híbrido        0.66          80476.0      0.00   \n",
       "2          GRLV11  Logística      145.50          54618.0      0.17   \n",
       "3          GRLV11  Logística      145.50          54618.0      0.17   \n",
       "4          HGRU11    Híbrido      129.18          66499.0      0.68   \n",
       "\n",
       "   dividend_yield dy_3m_acumulado dy_6m_acumulado DY_(12M)_Acumulado  \\\n",
       "0            0.24            0.69            0.69               0.69   \n",
       "1            0.24            0.69            0.69               0.69   \n",
       "2            0.00            0.00            0.00               0.00   \n",
       "3            0.00            0.00            0.00               0.00   \n",
       "4            0.53            1.62            3.21               6.60   \n",
       "\n",
       "  dy_3m_media  ... vacancia_fisica  vacancia_financeira quantidade_ativos  \\\n",
       "0        0.23  ...                                                      0   \n",
       "1        0.23  ...                                                      0   \n",
       "2        0.00  ...            3.70                 3.40                 0   \n",
       "3        0.00  ...            3.70                 3.40                 0   \n",
       "4        0.54  ...            0.00                 0.00                16   \n",
       "\n",
       "                         hoje Público Alvo          Tipo de FII DY mediana  \\\n",
       "0  2021-02-23 09:41:27.962330        Geral       Tijolo: Outros       0.46   \n",
       "1  2021-02-23 09:41:27.962330         None                 None       0.46   \n",
       "2  2021-02-23 09:41:27.962330        Geral      Tijolo: Galpões       0.52   \n",
       "3  2021-02-23 09:41:27.962330         None                 None       0.52   \n",
       "4  2021-02-23 09:41:27.962330        Geral  Tijolo: Educacional       0.03   \n",
       "\n",
       "  Dif_entre_med_e_media dy_mediana filtro estabilidade  \n",
       "0                  0.06       0.46             Estavel  \n",
       "1                  0.06       0.46             Estavel  \n",
       "2                  0.00       0.52                      \n",
       "3                  0.00       0.52                      \n",
       "4                  0.55       0.03             Estavel  \n",
       "\n",
       "[5 rows x 33 columns]"
      ],
      "text/html": "<div>\n<style scoped>\n    .dataframe tbody tr th:only-of-type {\n        vertical-align: middle;\n    }\n\n    .dataframe tbody tr th {\n        vertical-align: top;\n    }\n\n    .dataframe thead th {\n        text-align: right;\n    }\n</style>\n<table border=\"1\" class=\"dataframe\">\n  <thead>\n    <tr style=\"text-align: right;\">\n      <th></th>\n      <th>codigo_do_fundo</th>\n      <th>setor</th>\n      <th>preco_atual</th>\n      <th>liquidez_diaria</th>\n      <th>dividendo</th>\n      <th>dividend_yield</th>\n      <th>dy_3m_acumulado</th>\n      <th>dy_6m_acumulado</th>\n      <th>DY_(12M)_Acumulado</th>\n      <th>dy_3m_media</th>\n      <th>...</th>\n      <th>vacancia_fisica</th>\n      <th>vacancia_financeira</th>\n      <th>quantidade_ativos</th>\n      <th>hoje</th>\n      <th>Público Alvo</th>\n      <th>Tipo de FII</th>\n      <th>DY mediana</th>\n      <th>Dif_entre_med_e_media</th>\n      <th>dy_mediana</th>\n      <th>filtro estabilidade</th>\n    </tr>\n  </thead>\n  <tbody>\n    <tr>\n      <th>0</th>\n      <td>CARE11</td>\n      <td>Híbrido</td>\n      <td>0.66</td>\n      <td>80476.0</td>\n      <td>0.00</td>\n      <td>0.24</td>\n      <td>0.69</td>\n      <td>0.69</td>\n      <td>0.69</td>\n      <td>0.23</td>\n      <td>...</td>\n      <td></td>\n      <td></td>\n      <td>0</td>\n      <td>2021-02-23 09:41:27.962330</td>\n      <td>Geral</td>\n      <td>Tijolo: Outros</td>\n      <td>0.46</td>\n      <td>0.06</td>\n      <td>0.46</td>\n      <td>Estavel</td>\n    </tr>\n    <tr>\n      <th>1</th>\n      <td>CARE11</td>\n      <td>Híbrido</td>\n      <td>0.66</td>\n      <td>80476.0</td>\n      <td>0.00</td>\n      <td>0.24</td>\n      <td>0.69</td>\n      <td>0.69</td>\n      <td>0.69</td>\n      <td>0.23</td>\n      <td>...</td>\n      <td></td>\n      <td></td>\n      <td>0</td>\n      <td>2021-02-23 09:41:27.962330</td>\n      <td>None</td>\n      <td>None</td>\n      <td>0.46</td>\n      <td>0.06</td>\n      <td>0.46</td>\n      <td>Estavel</td>\n    </tr>\n    <tr>\n      <th>2</th>\n      <td>GRLV11</td>\n      <td>Logística</td>\n      <td>145.50</td>\n      <td>54618.0</td>\n      <td>0.17</td>\n      <td>0.00</td>\n      <td>0.00</td>\n      <td>0.00</td>\n      <td>0.00</td>\n      <td>0.00</td>\n      <td>...</td>\n      <td>3.70</td>\n      <td>3.40</td>\n      <td>0</td>\n      <td>2021-02-23 09:41:27.962330</td>\n      <td>Geral</td>\n      <td>Tijolo: Galpões</td>\n      <td>0.52</td>\n      <td>0.00</td>\n      <td>0.52</td>\n      <td></td>\n    </tr>\n    <tr>\n      <th>3</th>\n      <td>GRLV11</td>\n      <td>Logística</td>\n      <td>145.50</td>\n      <td>54618.0</td>\n      <td>0.17</td>\n      <td>0.00</td>\n      <td>0.00</td>\n      <td>0.00</td>\n      <td>0.00</td>\n      <td>0.00</td>\n      <td>...</td>\n      <td>3.70</td>\n      <td>3.40</td>\n      <td>0</td>\n      <td>2021-02-23 09:41:27.962330</td>\n      <td>None</td>\n      <td>None</td>\n      <td>0.52</td>\n      <td>0.00</td>\n      <td>0.52</td>\n      <td></td>\n    </tr>\n    <tr>\n      <th>4</th>\n      <td>HGRU11</td>\n      <td>Híbrido</td>\n      <td>129.18</td>\n      <td>66499.0</td>\n      <td>0.68</td>\n      <td>0.53</td>\n      <td>1.62</td>\n      <td>3.21</td>\n      <td>6.60</td>\n      <td>0.54</td>\n      <td>...</td>\n      <td>0.00</td>\n      <td>0.00</td>\n      <td>16</td>\n      <td>2021-02-23 09:41:27.962330</td>\n      <td>Geral</td>\n      <td>Tijolo: Educacional</td>\n      <td>0.03</td>\n      <td>0.55</td>\n      <td>0.03</td>\n      <td>Estavel</td>\n    </tr>\n  </tbody>\n</table>\n<p>5 rows × 33 columns</p>\n</div>"
     },
     "metadata": {},
     "execution_count": 47
    }
   ],
   "source": [
    "rank_2.head()"
   ]
  },
  {
   "source": [
    "# 4. Filtro de Idade\n",
    "<l> Retira fundos que tem menos de 1 ano de existência. </l>\n"
   ],
   "cell_type": "markdown",
   "metadata": {}
  },
  {
   "cell_type": "code",
   "execution_count": 48,
   "metadata": {},
   "outputs": [],
   "source": [
    "ipo_list = pd.read_sql_query('SELECT * FROM ipo_data_list',conn)"
   ]
  },
  {
   "cell_type": "code",
   "execution_count": 49,
   "metadata": {},
   "outputs": [
    {
     "output_type": "execute_result",
     "data": {
      "text/plain": [
       "Index(['Nome ', 'Código do fundo', 'Data_Ipo', 'Valor Ipo', 'Segmento',\n",
       "       'Administrador '],\n",
       "      dtype='object')"
      ]
     },
     "metadata": {},
     "execution_count": 49
    }
   ],
   "source": [
    "ipo_list.columns"
   ]
  },
  {
   "source": [
    "<l> 4.1 Renomeamos as colunas do código do Fundo </l>\n"
   ],
   "cell_type": "markdown",
   "metadata": {}
  },
  {
   "cell_type": "code",
   "execution_count": 52,
   "metadata": {},
   "outputs": [],
   "source": [
    "ipo_list = ipo_list.rename(columns={'Código do fundo':'codigo_do_fundo'})"
   ]
  },
  {
   "cell_type": "code",
   "execution_count": 85,
   "metadata": {},
   "outputs": [],
   "source": [
    "nr = pd.merge(rank_2,ipo_list, on='codigo_do_fundo')"
   ]
  },
  {
   "cell_type": "code",
   "execution_count": 86,
   "metadata": {},
   "outputs": [
    {
     "output_type": "execute_result",
     "data": {
      "text/plain": [
       "Index(['codigo_do_fundo', 'setor', 'preco_atual', 'liquidez_diaria',\n",
       "       'dividendo', 'dividend_yield', 'dy_3m_acumulado', 'dy_6m_acumulado',\n",
       "       'DY_(12M)_Acumulado', 'dy_3m_media', 'dy_6m_media', 'dy_12M_media',\n",
       "       'dy_ano', 'variacao_preco', 'rentabilidade_periodo',\n",
       "       'rentabilidade_acumulada', 'patrimonio_liq', 'vpa', 'p_vpa',\n",
       "       'dy_patrimonial', 'variacao_patrimonial',\n",
       "       'rentabilidade_patrimonial_periodo',\n",
       "       'rentabilidade_patrimonial_acumulada', 'vacancia_fisica',\n",
       "       'vacancia_financeira', 'quantidade_ativos', 'hoje', 'Público Alvo',\n",
       "       'Tipo de FII', 'DY mediana', 'Dif_entre_med_e_media', 'dy_mediana',\n",
       "       'filtro estabilidade', 'Nome ', 'Data_Ipo', 'Valor Ipo', 'Segmento',\n",
       "       'Administrador '],\n",
       "      dtype='object')"
      ]
     },
     "metadata": {},
     "execution_count": 86
    }
   ],
   "source": [
    "nr.columns"
   ]
  },
  {
   "cell_type": "code",
   "execution_count": 87,
   "metadata": {},
   "outputs": [],
   "source": [
    "import datetime"
   ]
  },
  {
   "cell_type": "code",
   "execution_count": 88,
   "metadata": {},
   "outputs": [],
   "source": [
    "today = datetime.date.today()"
   ]
  },
  {
   "cell_type": "code",
   "execution_count": 89,
   "metadata": {},
   "outputs": [],
   "source": [
    "d = today.day\n",
    "m = today.month\n",
    "y = today.year"
   ]
  },
  {
   "cell_type": "code",
   "execution_count": 90,
   "metadata": {},
   "outputs": [],
   "source": [
    "l_y = y-1"
   ]
  },
  {
   "cell_type": "code",
   "execution_count": 91,
   "metadata": {},
   "outputs": [],
   "source": [
    "data = '{}/0{}/{}'.format(d,m,l_y)"
   ]
  },
  {
   "cell_type": "code",
   "execution_count": 92,
   "metadata": {},
   "outputs": [
    {
     "output_type": "execute_result",
     "data": {
      "text/plain": [
       "'1/03/2020'"
      ]
     },
     "metadata": {},
     "execution_count": 92
    }
   ],
   "source": [
    "data"
   ]
  },
  {
   "cell_type": "code",
   "execution_count": 101,
   "metadata": {},
   "outputs": [],
   "source": [
    "nra = nr.loc[(nr['Data_Ipo'] > data) & (nr['Data_Ipo'] < data)]"
   ]
  },
  {
   "cell_type": "code",
   "execution_count": 102,
   "metadata": {},
   "outputs": [],
   "source": [
    "nr.drop_duplicates('codigo_do_fundo',inplace=True)"
   ]
  },
  {
   "cell_type": "code",
   "execution_count": 103,
   "metadata": {},
   "outputs": [
    {
     "output_type": "execute_result",
     "data": {
      "text/plain": [
       "Index(['codigo_do_fundo', 'setor', 'preco_atual', 'liquidez_diaria',\n",
       "       'dividendo', 'dividend_yield', 'dy_3m_acumulado', 'dy_6m_acumulado',\n",
       "       'DY_(12M)_Acumulado', 'dy_3m_media', 'dy_6m_media', 'dy_12M_media',\n",
       "       'dy_ano', 'variacao_preco', 'rentabilidade_periodo',\n",
       "       'rentabilidade_acumulada', 'patrimonio_liq', 'vpa', 'p_vpa',\n",
       "       'dy_patrimonial', 'variacao_patrimonial',\n",
       "       'rentabilidade_patrimonial_periodo',\n",
       "       'rentabilidade_patrimonial_acumulada', 'vacancia_fisica',\n",
       "       'vacancia_financeira', 'quantidade_ativos', 'hoje', 'Público Alvo',\n",
       "       'Tipo de FII', 'DY mediana', 'Dif_entre_med_e_media', 'dy_mediana',\n",
       "       'filtro estabilidade', 'Nome ', 'Data_Ipo', 'Valor Ipo', 'Segmento',\n",
       "       'Administrador '],\n",
       "      dtype='object')"
      ]
     },
     "metadata": {},
     "execution_count": 103
    }
   ],
   "source": [
    "nr.columns"
   ]
  },
  {
   "cell_type": "code",
   "execution_count": 104,
   "metadata": {},
   "outputs": [],
   "source": [
    "nr['data_extracao'] = today"
   ]
  },
  {
   "cell_type": "code",
   "execution_count": 106,
   "metadata": {},
   "outputs": [],
   "source": [
    "nr.to_sql('todos_os_fundos', schema=None, if_exists='append', index=False, con=conn)"
   ]
  },
  {
   "cell_type": "code",
   "execution_count": 107,
   "metadata": {},
   "outputs": [],
   "source": [
    "nr.to_excel(r's_rank{}.xlsx'.format(str(today)),index=False)"
   ]
  }
 ]
}